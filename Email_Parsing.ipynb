{
 "cells": [
  {
   "cell_type": "markdown",
   "metadata": {
    "collapsed": true
   },
   "source": [
    "# Spam Emails Parsing & Pattern Analysis\n",
    "\n",
    "\n",
    "## Introduction\n",
    "\n",
    "Spam email is still a common attack method. Most of the email services have spam filters that can help us block and filter out most of the emails with commercial, fraudulent and malicious content. The purpose of this analysis is to explore the difference between the features of commercial email and malicious email.\n",
    "\n",
    "## Get Email Header Data\n",
    "\n",
    "This part of the script is to get emails' header for further analysis.\n",
    "The script uses ```imaplib``` library to get email headers from a Gmail account Spam folder. For the script to work, Gmail IMAP Access need to be enabled. To enable IMAP for Gmail, please check this [instruction](https://support.google.com/mail/answer/7126229). You also need either to turn off 2-Step Verification for your Google account or set up an app password [here](https://myaccount.google.com/u/1/security).\n",
    "\n",
    "### Setup connection\n",
    "\n",
    "1. Import the required libraries."
   ]
  },
  {
   "cell_type": "code",
   "execution_count": null,
   "metadata": {},
   "outputs": [],
   "source": [
    "import getpass\n",
    "import imaplib\n",
    "import email\n",
    "from email.parser import HeaderParser\n",
    "from email.header import decode_header\n",
    "import re\n",
    "import csv\n",
    "import pandas as pd\n",
    "from bs4 import BeautifulSoup\n",
    "#from ipywidgets import interact, interactive, fixed, interact_manual\n",
    "#import ipywidgets as widgets\n",
    "import requests\n",
    "import json"
   ]
  },
  {
   "cell_type": "markdown",
   "metadata": {},
   "source": [
    "2. Login to the Gmail"
   ]
  },
  {
   "cell_type": "code",
   "execution_count": null,
   "metadata": {},
   "outputs": [],
   "source": [
    "print('Email:')\n",
    "un = input()\n",
    "print('Password')\n",
    "pw = getpass.getpass()\n",
    "conn = imaplib.IMAP4_SSL(port = '993',host = 'imap.gmail.com')\n",
    "conn.login(un,pw)"
   ]
  },
  {
   "cell_type": "markdown",
   "metadata": {},
   "source": [
    "3. Get email headers and add attribute."
   ]
  },
  {
   "cell_type": "code",
   "execution_count": null,
   "metadata": {},
   "outputs": [],
   "source": [
    "#conn.select('[Gmail]/Index')\n",
    "conn.select('[Gmail]/Spam')\n",
    "type, emaildata = conn.search(None, 'ALL')\n",
    "emaillist=emaildata[0].split()\n",
    "parser = HeaderParser()\n",
    "header_list=[]\n",
    "msg_text=[]\n",
    "key_f=open(\"key.txt\",\"r\")\n",
    "key=key_f.readlines()[0]\n",
    "for a in emaillist:\n",
    "    type, emaildata2 = conn.fetch(a, '(RFC822)')\n",
    "    h = parser.parsestr(emaildata2[0][1].decode('utf-8','ignore'))\n",
    "    for txt in h.walk():\n",
    "        if not txt.is_multipart():\n",
    "            msg_text = txt.get_payload(decode=True).decode('utf-8','ignore')\n",
    "    soup = BeautifulSoup(msg_text, \"lxml\")\n",
    "    msg_text= soup.get_text(strip=True)\n",
    "    header = {}\n",
    "    header['Subject']=decode_header(h['Subject'])[0][0]\n",
    "    header['ARC-Authentication-Results']=h['ARC-Authentication-Results'].strip()\n",
    "    header['Return-Path']=h['Return-Path'].strip()\n",
    "    header['Return-Path Address']=re.findall(r'\\b@\\S*\\b',str(h['Return-Path'].strip()))[0]\n",
    "    header['Received']=h['Received'].strip()\n",
    "    header['Received-SPF']=h['Received-SPF'].strip()\n",
    "    header['Date']=pd.to_datetime(h['Date'].strip())\n",
    "    if 'Reply-To' in h:\n",
    "        header['Reply-To']=h['Reply-To'].strip()\n",
    "        header['Reply-To Address']=re.findall(r'\\b@\\S*\\b',str(h['Reply-To'].strip()))[0]\n",
    "    else:\n",
    "        header['Reply-To']=''\n",
    "        header['Reply-To Address']=''\n",
    "    header['Content-Type']=h['Content-Type'].strip().split(';')[0]\n",
    "    header['From']=h['From'].strip()\n",
    "    if re.findall(r'\\b@\\S*\\b',str(h['From'].strip())):\n",
    "        header['From Address']=re.findall(r'\\b@\\S*\\b',str(h['From'].strip()))[0]\n",
    "    else:\n",
    "        header['From Address']=''\n",
    "    #header['Sender-ip']= re.findall(r'(?:(?:25[0-5]|2[0-4]\\d|[01]?[0-9][0-9]?)\\.){3}(?:25[0-5]|2[0-4]\\d|[01]?\\d\\d?)',str(header))\n",
    "    header['Message']= len(msg_text)\n",
    "    if re.findall(r'\\bip=\\S*\\b',str(header)):\n",
    "        header['IP']=re.findall(r'\\bip=\\S*\\b',str(header))[0].split('=')[1]\n",
    "    else:\n",
    "        header['IP']=''\n",
    "    if re.findall(r'\\bspf=\\S*\\b',str(header)):\n",
    "        header['SPF']=re.findall(r'\\bspf=\\S*\\b',str(header))[0].split('=')[1]\n",
    "    else:\n",
    "        header['SPF']=''\n",
    "    if re.findall(r'\\bdmarc=\\S*\\b',str(header)):\n",
    "        header['DMARC']=re.findall(r'\\bdmarc=\\S*\\b',str(header))[0].split('=')[1]\n",
    "    else:\n",
    "        header['DMARC']=''\n",
    "    if re.findall(r'\\bdkim=\\S*\\b',str(header)):\n",
    "        header['DKIM']=re.findall(r'\\bdkim=\\S*\\b',str(header))[0].split('=')[1]\n",
    "    else:\n",
    "        header['DKIM']=''\n",
    "    \n",
    "    address = \"http://api.ipstack.com/\"+header['IP']+\"?access_key=\"+key    \n",
    "    response = requests.get(address)\n",
    "    ipjason = response.text\n",
    "    iplist = json.loads(ipjason)\n",
    "    header['Country']= iplist.get('country_name')\n",
    "    header['Regin']= iplist.get('region_name')\n",
    "    header['City']= iplist.get('city')\n",
    "    if iplist.get('type')== 'ipv6' :\n",
    "        header['IPv6 Indicator']= 1\n",
    "    elif iplist.get('type')== 'ipv4' :\n",
    "        header['IPv6 Indicator']= 0\n",
    "    header_list.append(header)"
   ]
  },
  {
   "cell_type": "markdown",
   "metadata": {},
   "source": [
    "4. Write the data into csv file."
   ]
  },
  {
   "cell_type": "code",
   "execution_count": null,
   "metadata": {},
   "outputs": [],
   "source": [
    "keys = header_list[0].keys()\n",
    "print('File Name:')\n",
    "fn = input()\n",
    "with open(fn+'.csv', 'w') as output_file:\n",
    "    dict_writer = csv.DictWriter(output_file, keys)\n",
    "    dict_writer.writeheader()\n",
    "    dict_writer.writerows(header_list)"
   ]
  }
 ],
 "metadata": {
  "kernelspec": {
   "display_name": "Python 3",
   "language": "python",
   "name": "python3"
  },
  "language_info": {
   "codemirror_mode": {
    "name": "ipython",
    "version": 3
   },
   "file_extension": ".py",
   "mimetype": "text/x-python",
   "name": "python",
   "nbconvert_exporter": "python",
   "pygments_lexer": "ipython3",
   "version": "3.6.7"
  }
 },
 "nbformat": 4,
 "nbformat_minor": 1
}
