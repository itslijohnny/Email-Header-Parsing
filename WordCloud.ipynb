{
 "cells": [
  {
   "cell_type": "code",
   "execution_count": null,
   "metadata": {
    "ExecuteTime": {
     "end_time": "2019-03-12T21:09:02.085910Z",
     "start_time": "2019-03-12T21:09:01.793Z"
    }
   },
   "outputs": [],
   "source": [
    "emsub <- read.csv(\"word.csv\",stringsAsFactors = F)\n",
    "colnames(emsub) <- c(\"Subject\",\"IP\",\"CAT\")\n",
    "str(emsub)"
   ]
  },
  {
   "cell_type": "raw",
   "metadata": {},
   "source": [
    "emsub <- unique(emsub)\n",
    "duplicated(emsub$Subject)"
   ]
  },
  {
   "cell_type": "code",
   "execution_count": null,
   "metadata": {
    "ExecuteTime": {
     "end_time": "2019-03-12T21:09:02.250877Z",
     "start_time": "2019-03-12T21:09:01.866Z"
    }
   },
   "outputs": [],
   "source": [
    "clean.func <- function(x,c1){\n",
    "    text <- gsub(\"\\\\\\\\x..\", \"\", x[c1])\n",
    "    text <- gsub(\"^b.\", \"\", text)\n",
    "}\n",
    "emsub$Text <- apply(emsub,1,clean.func,c1='Subject')"
   ]
  },
  {
   "cell_type": "code",
   "execution_count": null,
   "metadata": {
    "ExecuteTime": {
     "end_time": "2019-03-12T21:09:58.100045Z",
     "start_time": "2019-03-12T21:09:58.070Z"
    }
   },
   "outputs": [],
   "source": [
    "library(corpus)\n",
    "library(tm)\n",
    "corp <- Corpus(VectorSource(emsub$Text))"
   ]
  },
  {
   "cell_type": "code",
   "execution_count": null,
   "metadata": {
    "ExecuteTime": {
     "end_time": "2019-03-12T21:10:00.644522Z",
     "start_time": "2019-03-12T21:10:00.487Z"
    }
   },
   "outputs": [],
   "source": [
    "corp <- tm_map(corp, tolower)\n",
    "corp <- tm_map(corp, removeNumbers)\n",
    "corp <- tm_map(corp, removePunctuation)\n",
    "corp <- tm_map(corp, removeWords, stopwords(\"en\"))\n",
    "corp <- tm_map(corp, removeWords, c('as', 'able', 'about', 'above', 'according', 'accordingly', 'across', 'actually', 'after', 'afterwards', 'again', 'against', 'aint', 'all', 'allow','allows', 'almost', 'alone', 'along', 'already', 'also', 'although', 'always', 'am', 'among', 'amongst', 'an', 'and', 'another', 'any', 'anybody', 'anyhow', 'anyone', 'anything', 'anyway', 'anyways', 'anywhere', 'apart', 'appear', 'appreciate', 'appropriate', 'are', 'arent', 'around', 'as', 'aside', 'ask', 'asking', 'associated', 'at', 'available', 'away', 'awfully', 'be', 'became', 'because', 'become', 'becomes', 'becoming', 'been', 'before', 'beforehand', 'behind', 'being', 'believe', 'below', 'beside', 'besides', 'best', 'better', 'between', 'beyond', 'both', 'brief', 'but', 'by', 'cmon', 'cs', 'came', 'can', 'cant', 'cannot', 'cant', 'cause', 'causes', 'certain', 'certainly', 'changes', 'clearly', 'co', 'com', 'come', 'comes', 'concerning', 'consequently', 'consider', 'considering', 'contain', 'containing', 'contains', 'corresponding', 'could', 'couldnt', 'course', 'currently', 'definitely', 'described', 'despite', 'did', 'didnt', 'different', 'do', 'does', 'doesnt', 'doing', 'dont', 'done', 'down', 'downwards', 'during', 'each','edu', 'eg', 'eight', 'either', 'else', 'elsewhere', 'enough', 'entirely', 'especially', 'et', 'etc', 'even', 'ever', 'every', 'everybody', 'everyone', 'everything', 'everywhere', 'ex', 'exactly', 'example', 'except', 'far', 'few', 'fifth', 'first', 'five', 'followed', 'following', 'follows', 'for', 'former', 'formerly', 'forth', 'four', 'from', 'further', 'furthermore', 'get', 'gets', 'getting', 'given', 'gives', 'go', 'goes', 'going', 'gone', 'got', 'gotten', 'greetings', 'had', 'hadnt', 'happens', 'hardly', 'has', 'hasnt', 'have', 'havent', 'having', 'he', 'hes', 'hello', 'help', 'hence', 'her', 'here', 'heres', 'hereafter', 'hereby', 'herein', 'hereupon', 'hers', 'herself', 'hi', 'him', 'himself', 'his', 'hither', 'hopefully', 'how', 'howbeit', 'however', 'id', 'ill', 'im', 'ive', 'ie', 'if', 'ignored', 'immediate', 'in', 'inasmuch', 'inc', 'indeed', 'indicate', 'indicated', 'indicates', 'inner', 'insofar', 'instead', 'into', 'inward', 'is', 'isnt', 'it', 'itd', 'itll', 'its', 'its', 'itself', 'just', 'keep', 'keeps', 'kept', 'know', 'known', 'knows', 'last', 'lately', 'later', 'latter', 'latterly', 'least', 'less', 'lest', 'let', 'lets', 'like', 'liked', 'likely', 'little', 'look', 'looking', 'looks', 'ltd', 'mainly', 'many', 'may', 'maybe', 'me', 'mean', 'meanwhile', 'merely', 'might', 'more', 'moreover', 'most', 'mostly', 'much', 'must', 'my', 'myself', 'name', 'namely', 'nd', 'near', 'nearly', 'necessary', 'need', 'needs', 'neither', 'never', 'nevertheless', 'new', 'next', 'nine', 'no', 'nobody', 'non', 'none', 'noone', 'nor', 'normally', 'not', 'nothing', 'novel', 'now', 'nowhere', 'obviously', 'of', 'off', 'often', 'oh', 'ok', 'okay', 'old', 'on', 'once', 'one', 'ones', 'only', 'onto', 'or', 'other', 'others', 'otherwise', 'ought', 'our', 'ours', 'ourselves','out', 'outside', 'over', 'overall', 'own', 'particular', 'particularly', 'per', 'perhaps', 'placed', 'please', 'plus', 'possible', 'presumably', 'probably', 'provides', 'que', 'quite', 'qv', 'rather', 'rd', 're', 'really', 'reasonably', 'regarding', 'regardless', 'regards', 'relatively', 'respectively', 'right', 'said', 'same', 'saw', 'say', 'saying', 'says', 'second', 'secondly', 'see', 'seeing', 'seem', 'seemed', 'seeming', 'seems', 'seen', 'self', 'selves', 'sensible', 'sent', 'serious', 'seriously', 'seven', 'several', 'shall', 'she', 'should', 'shouldnt', 'since', 'six', 'so', 'some', 'somebody', 'somehow', 'someone', 'something', 'sometime', 'sometimes', 'somewhat', 'somewhere', 'soon', 'sorry', 'specified', 'specify', 'specifying','still', 'sub', 'such', 'sup', 'sure', 'ts', 'take', 'taken', 'tell', 'tends', 'th', 'than', 'thank', 'thanks', 'thanx', 'that', 'thats', 'thats', 'the', 'their', 'theirs', 'them', 'themselves', 'then', 'thence', 'there', 'theres', 'thereafter', 'thereby', 'therefore', 'therein', 'theres', 'thereupon', 'these', 'they', 'theyd', \"they'll\", 'theyre', 'theyve', 'think', 'third', 'this', 'thorough', 'thoroughly', 'those', 'though', 'three', 'through', 'throughout', 'thru', 'thus', 'to', 'together', 'too', 'took', 'toward', 'towards', 'tried', 'tries', 'truly', 'try', 'trying', 'twice', 'two', 'un', 'under', 'unfortunately', 'unless', 'unlikely', 'until', 'unto', 'up', 'upon', 'us', 'use', 'used', 'useful', 'uses', 'using', 'usually', 'value', 'various', 'very', 'via', 'viz', 'vs', 'want', 'wants', 'was', 'wasnt', 'way', 'we', 'wed', 'well', 'were', 'weve', 'welcome', 'well', 'went', 'were','werent', 'what', 'whats', 'whatever', 'when', 'whence', 'whenever', 'where', 'wheres', 'whereafter', 'whereas', 'whereby', 'wherein', 'whereupon', 'wherever', 'whether', 'which', 'while', 'whither', 'who', 'whos', 'whoever', 'whole', 'whom', 'whose', 'why', 'will', 'willing', 'wish', 'with', 'within', 'without', 'wont', 'wonder', 'would', 'wouldnt', 'yes', 'yet', 'you', 'youd', 'youll', 'youre', 'youve', 'your', 'yours', 'yourself', 'yourselves', 'zero','test','ixdc'))\n",
    "corp <- tm_map(corp, stripWhitespace)\n",
    "corp <- tm_map(corp, stemDocument) "
   ]
  },
  {
   "cell_type": "code",
   "execution_count": null,
   "metadata": {
    "ExecuteTime": {
     "end_time": "2019-03-12T21:10:03.579836Z",
     "start_time": "2019-03-12T21:10:03.519Z"
    }
   },
   "outputs": [],
   "source": [
    "dtm <- DocumentTermMatrix(corp)\n",
    "inspect(dtm)\n",
    "tfidf <- weightTfIdf(dtm)\n",
    "inspect(tfidf)"
   ]
  },
  {
   "cell_type": "raw",
   "metadata": {},
   "source": [
    "wc.df <- data.frame(as.matrix(dtm),CAT = emsub$CAT)\n",
    "write.csv(wc.df,\"wc.csv\")"
   ]
  },
  {
   "cell_type": "code",
   "execution_count": null,
   "metadata": {
    "ExecuteTime": {
     "end_time": "2019-03-12T21:11:04.698505Z",
     "start_time": "2019-03-12T21:11:04.626Z"
    }
   },
   "outputs": [],
   "source": [
    "wctf.df <- data.frame(as.matrix(tfidf),CAT = emsub$CAT)"
   ]
  },
  {
   "cell_type": "code",
   "execution_count": null,
   "metadata": {
    "ExecuteTime": {
     "end_time": "2019-03-12T21:11:09.188088Z",
     "start_time": "2019-03-12T21:11:09.150Z"
    }
   },
   "outputs": [],
   "source": [
    "wcsp.df <-wctf.df[wctf.df$CAT==\"Spam\",!(names(wctf.df)==\"CAT\")]"
   ]
  },
  {
   "cell_type": "code",
   "execution_count": null,
   "metadata": {
    "ExecuteTime": {
     "end_time": "2019-03-12T21:11:12.361550Z",
     "start_time": "2019-03-12T21:11:10.148Z"
    }
   },
   "outputs": [],
   "source": [
    "library(wordcloud)\n",
    "library(wordcloud2)\n",
    "# convert tfidf to a matrix\n",
    "m <- wcsp.df\n",
    "\n",
    "# find out the importance of each term by summing up the tf-idf scores over the corpus\n",
    "v <- sort(colSums(m),decreasing=TRUE)\n",
    "v<-v*1000000000000000000\n",
    "\n",
    "importance <- data.frame(word = names(v), tfidf = v)\n",
    "wordcloud(importance$word, importance$tfidf,random.order=FALSE, max.words=250, colors=brewer.pal(8, \"Dark2\"))\n",
    "#wordcloud2(importance, size = 0.5, minSize = 0, gridSize = 0, ellipticity = 1,color = \"random-light\",backgroundColor = \"white\", minRotation = -pi/4, maxRotation = pi/4, shuffle = TRUE, rotateRatio = 0, shape = 'round',  widgetsize = NULL, figPath = NULL, hoverFunction = NULL)\n",
    "\n",
    "# brewer.pal(n, name) is used for setting the color palettes\n",
    "# n: Number of different colors in the palette, minimum 3, maximum depending on palette\n",
    "# name: A palette name"
   ]
  },
  {
   "cell_type": "code",
   "execution_count": null,
   "metadata": {
    "ExecuteTime": {
     "end_time": "2019-03-12T21:11:16.692313Z",
     "start_time": "2019-03-12T21:11:15.666Z"
    }
   },
   "outputs": [],
   "source": [
    "wcad.df <-wctf.df[wctf.df$CAT==\"Ad\",!(names(wctf.df)==\"CAT\")]\n",
    "\n",
    "# convert tfidf to a matrix\n",
    "m <- wcad.df\n",
    "\n",
    "# find out the importance of each term by summing up the tf-idf scores over the corpus\n",
    "v <- sort(colSums(m),decreasing=TRUE)\n",
    "v\n",
    "importance <- data.frame(word = names(v), tfidf = v)\n",
    "wordcloud(importance$word, importance$tfidf,random.order=FALSE, max.words=100, colors=brewer.pal(8, \"Dark2\"))\n",
    "\n",
    "# brewer.pal(n, name) is used for setting the color palettes\n",
    "# n: Number of different colors in the palette, minimum 3, maximum depending on palette\n",
    "# name: A palette name"
   ]
  }
 ],
 "metadata": {
  "kernelspec": {
   "display_name": "R",
   "language": "R",
   "name": "ir"
  },
  "language_info": {
   "codemirror_mode": "r",
   "file_extension": ".r",
   "mimetype": "text/x-r-source",
   "name": "R",
   "pygments_lexer": "r",
   "version": "3.5.1"
  },
  "latex_envs": {
   "LaTeX_envs_menu_present": true,
   "autoclose": true,
   "autocomplete": true,
   "bibliofile": "biblio.bib",
   "cite_by": "apalike",
   "current_citInitial": 1,
   "eqLabelWithNumbers": true,
   "eqNumInitial": 1,
   "hotkeys": {
    "equation": "Ctrl-E",
    "itemize": "Ctrl-I"
   },
   "labels_anchors": false,
   "latex_user_defs": false,
   "report_style_numbering": false,
   "user_envs_cfg": false
  },
  "toc": {
   "base_numbering": 1,
   "nav_menu": {},
   "number_sections": true,
   "sideBar": true,
   "skip_h1_title": false,
   "title_cell": "Table of Contents",
   "title_sidebar": "Contents",
   "toc_cell": false,
   "toc_position": {},
   "toc_section_display": true,
   "toc_window_display": false
  },
  "varInspector": {
   "cols": {
    "lenName": 16,
    "lenType": 16,
    "lenVar": 40
   },
   "kernels_config": {
    "python": {
     "delete_cmd_postfix": "",
     "delete_cmd_prefix": "del ",
     "library": "var_list.py",
     "varRefreshCmd": "print(var_dic_list())"
    },
    "r": {
     "delete_cmd_postfix": ") ",
     "delete_cmd_prefix": "rm(",
     "library": "var_list.r",
     "varRefreshCmd": "cat(var_dic_list()) "
    }
   },
   "types_to_exclude": [
    "module",
    "function",
    "builtin_function_or_method",
    "instance",
    "_Feature"
   ],
   "window_display": false
  }
 },
 "nbformat": 4,
 "nbformat_minor": 2
}
