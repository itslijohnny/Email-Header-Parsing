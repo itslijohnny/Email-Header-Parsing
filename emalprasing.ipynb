{
 "cells": [
  {
   "cell_type": "markdown",
   "metadata": {
    "collapsed": true
   },
   "source": [
    "# Email Parsing\n",
    "\n",
    "First, we need to import the required libraries."
   ]
  },
  {
   "cell_type": "code",
   "execution_count": 1,
   "metadata": {},
   "outputs": [],
   "source": [
    "import imaplib\n",
    "import email\n",
    "from email.parser import HeaderParser\n",
    "import re\n",
    "from email.header import decode_header\n",
    "import csv"
   ]
  },
  {
   "cell_type": "markdown",
   "metadata": {},
   "source": [
    "Get the all email data form Spam folder."
   ]
  },
  {
   "cell_type": "code",
   "execution_count": 2,
   "metadata": {},
   "outputs": [],
   "source": [
    "pwfile = open(\"account.txt\",\"r\")\n",
    "lines=pwfile.readlines()\n",
    "un = lines[0]\n",
    "pw = lines[1]\n",
    "conn = imaplib.IMAP4_SSL(port = '993',host = 'imap.gmail.com')\n",
    "conn.login(un,pw)\n",
    "conn.select('[Gmail]/Spam')\n",
    "type, data = conn.search(None, 'ALL')\n",
    "emaillist=data[0].split()"
   ]
  },
  {
   "cell_type": "markdown",
   "metadata": {},
   "source": [
    "Get email headers"
   ]
  },
  {
   "cell_type": "code",
   "execution_count": 3,
   "metadata": {},
   "outputs": [],
   "source": [
    "parser = HeaderParser()\n",
    "header_list=[]\n",
    "for a in emaillist:\n",
    "    type, data2 = conn.fetch(a, '(RFC822)')\n",
    "    h = parser.parsestr(data2[0][1].decode('utf-8','ignore'))\n",
    "    header = {}\n",
    "    header['Subject']=decode_header(h['Subject'])[0][0]\n",
    "    header['Sender-ip']= str(re.findall(r'(?:(?:25[0-5]|2[0-4]\\d|[01]?[0-9][0-9]?)\\.){3}(?:25[0-5]|2[0-4]\\d|[01]?\\d\\d?)',str(header)))\n",
    "    header['ARC-Authentication-Results']=h['ARC-Authentication-Results'].strip()\n",
    "    header['Return-Path']=h['Return-Path'].strip()\n",
    "    header['Received']=h['Received'].strip()\n",
    "    header['Received-SPF']=h['Received-SPF'].strip()\n",
    "    header['Date']=h['Date'].strip()\n",
    "    if 'Reply-To' in h:\n",
    "        header['Reply-To']=h['Reply-To'].strip()\n",
    "    else:\n",
    "        header['Reply-To']=''    \n",
    "    header['Content-Type']=h['Content-Type'].strip()\n",
    "    header_list.append(header)"
   ]
  },
  {
   "cell_type": "code",
   "execution_count": 4,
   "metadata": {},
   "outputs": [],
   "source": [
    "keys = header_list[0].keys()\n",
    "with open('spam.csv', 'w') as output_file:\n",
    "    dict_writer = csv.DictWriter(output_file, keys)\n",
    "    dict_writer.writeheader()\n",
    "    dict_writer.writerows(header_list)"
   ]
  }
 ],
 "metadata": {
  "kernelspec": {
   "display_name": "Python 3",
   "language": "python",
   "name": "python3"
  },
  "language_info": {
   "codemirror_mode": {
    "name": "ipython",
    "version": 3
   },
   "file_extension": ".py",
   "mimetype": "text/x-python",
   "name": "python",
   "nbconvert_exporter": "python",
   "pygments_lexer": "ipython3",
   "version": "3.6.5"
  }
 },
 "nbformat": 4,
 "nbformat_minor": 1
}
