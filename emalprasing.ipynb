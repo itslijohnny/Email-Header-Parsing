{
 "cells": [
  {
   "cell_type": "markdown",
   "metadata": {
    "collapsed": true
   },
   "source": [
    "# Email Parsing\n",
    "\n",
    "Import the required libraries."
   ]
  },
  {
   "cell_type": "code",
   "execution_count": null,
   "metadata": {},
   "outputs": [],
   "source": [
    "import getpass\n",
    "import imaplib\n",
    "import email\n",
    "from email.parser import HeaderParser\n",
    "import re\n",
    "from email.header import decode_header\n",
    "import csv\n",
    "import pandas as pd\n",
    "from bs4 import BeautifulSoup"
   ]
  },
  {
   "cell_type": "markdown",
   "metadata": {},
   "source": [
    "Login to the Gmail"
   ]
  },
  {
   "cell_type": "code",
   "execution_count": null,
   "metadata": {},
   "outputs": [],
   "source": [
    "print('Email')\n",
    "un = input()\n",
    "print('Password')\n",
    "pw = getpass.getpass()\n",
    "conn = imaplib.IMAP4_SSL(port = '993',host = 'imap.gmail.com')\n",
    "conn.login(un,pw)\n",
    "conn.select('[Gmail]/Spam')\n",
    "type, emaildata = conn.search(None, 'ALL')\n",
    "emaillist=emaildata[0].split()"
   ]
  },
  {
   "cell_type": "markdown",
   "metadata": {},
   "source": [
    "Get email headers"
   ]
  },
  {
   "cell_type": "code",
   "execution_count": null,
   "metadata": {},
   "outputs": [],
   "source": [
    "parser = HeaderParser()\n",
    "header_list=[]\n",
    "msg_text=[]\n",
    "for a in emaillist:\n",
    "    type, emaildata2 = conn.fetch(a, '(RFC822)')\n",
    "    msg = email.message_from_string(emaildata2[0][1].decode('utf-8','ignore'))\n",
    "    for txt in msg.walk():\n",
    "        if not txt.is_multipart():\n",
    "            msg_text = txt.get_payload(decode=True).decode('utf-8','ignore')\n",
    "    soup = BeautifulSoup(msg_text, \"lxml\")\n",
    "    msg_text= soup.get_text(strip=True)\n",
    "    h = parser.parsestr(emaildata2[0][1].decode('utf-8','ignore'))\n",
    "    header = {}\n",
    "    header['Subject']=decode_header(h['Subject'])[0][0]\n",
    "    header['ARC-Authentication-Results']=h['ARC-Authentication-Results'].strip()\n",
    "    header['Return-Path']=h['Return-Path'].strip()\n",
    "    header['Received']=h['Received'].strip()\n",
    "    header['Received-SPF']=h['Received-SPF'].strip()\n",
    "    header['Date']=pd.to_datetime(h['Date'].strip())\n",
    "    if 'Reply-To' in h:\n",
    "        header['Reply-To']=h['Reply-To'].strip()\n",
    "    else:\n",
    "        header['Reply-To']=''    \n",
    "    header['Content-Type']=h['Content-Type'].strip()\n",
    "    header['From']=h['From'].strip()\n",
    "    header['Sender-ip']= re.findall(r'(?:(?:25[0-5]|2[0-4]\\d|[01]?[0-9][0-9]?)\\.){3}(?:25[0-5]|2[0-4]\\d|[01]?\\d\\d?)',str(header))\n",
    "    header['Message']= len(msg_text)\n",
    "    header_list.append(header)"
   ]
  },
  {
   "cell_type": "code",
   "execution_count": null,
   "metadata": {},
   "outputs": [],
   "source": [
    "keys = header_list[0].keys()\n",
    "with open('spam.csv', 'w') as output_file:\n",
    "    dict_writer = csv.DictWriter(output_file, keys)\n",
    "    dict_writer.writeheader()\n",
    "    dict_writer.writerows(header_list)"
   ]
  }
 ],
 "metadata": {
  "kernelspec": {
   "display_name": "Python 3",
   "language": "python",
   "name": "python3"
  },
  "language_info": {
   "codemirror_mode": {
    "name": "ipython",
    "version": 3
   },
   "file_extension": ".py",
   "mimetype": "text/x-python",
   "name": "python",
   "nbconvert_exporter": "python",
   "pygments_lexer": "ipython3",
   "version": "3.6.5"
  }
 },
 "nbformat": 4,
 "nbformat_minor": 1
}
